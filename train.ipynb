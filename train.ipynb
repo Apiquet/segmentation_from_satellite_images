{
  "cells": [
    {
      "attachments": {},
      "cell_type": "markdown",
      "metadata": {
        "id": "EJGh-njkeAVi"
      },
      "source": [
        "# Notebook to run a Deep Learning training on MiniFrance dataset\n",
        "\n",
        "\n",
        "\n",
        "\n",
        "---"
      ]
    },
    {
      "attachments": {},
      "cell_type": "markdown",
      "metadata": {
        "id": "Ecvbs3LpedPz"
      },
      "source": [
        "### Get repository (nothing to change)"
      ]
    },
    {
      "cell_type": "code",
      "execution_count": null,
      "metadata": {
        "colab": {
          "base_uri": "https://localhost:8080/"
        },
        "id": "R8FRXxjb8gce",
        "outputId": "8d3b38ee-0e5f-4e7c-b27c-f7fa754b2f71"
      },
      "outputs": [],
      "source": [
        "!git clone https://github.com/Apiquet/segmentation_from_satellite_images.git"
      ]
    },
    {
      "cell_type": "code",
      "execution_count": null,
      "metadata": {},
      "outputs": [],
      "source": [
        "from segmentation_from_satellite_images.train import run_training"
      ]
    },
    {
      "attachments": {},
      "cell_type": "markdown",
      "metadata": {
        "id": "4z7lXmmRgEVz"
      },
      "source": [
        "### Update needed variables (variables in config.py script can also be changed)"
      ]
    },
    {
      "cell_type": "code",
      "execution_count": null,
      "metadata": {
        "colab": {
          "base_uri": "https://localhost:8080/"
        },
        "id": "vgXp7WQ07ZaP",
        "outputId": "7f3afbc9-cdd3-4c5e-b247-418a44cf5cdf"
      },
      "outputs": [],
      "source": [
        "from pathlib import Path\n",
        "training_dir = Path(\"\")\n",
        "db_path = Path(\"\")\n",
        "gee_project_name = \"\"\n",
        "run_training(training_dir=training_dir, db_path=db_path, gee_project_name=gee_project_name)"
      ]
    },
    {
      "cell_type": "code",
      "execution_count": null,
      "metadata": {
        "id": "rgQaC0Gk2FDc"
      },
      "outputs": [],
      "source": []
    }
  ],
  "metadata": {
    "accelerator": "GPU",
    "colab": {
      "gpuType": "T4",
      "provenance": []
    },
    "gpuClass": "standard",
    "kernelspec": {
      "display_name": "Python 3",
      "name": "python3"
    },
    "language_info": {
      "codemirror_mode": {
        "name": "ipython",
        "version": 3
      },
      "file_extension": ".py",
      "mimetype": "text/x-python",
      "name": "python",
      "nbconvert_exporter": "python",
      "pygments_lexer": "ipython3",
      "version": "3.11.0"
    }
  },
  "nbformat": 4,
  "nbformat_minor": 0
}
